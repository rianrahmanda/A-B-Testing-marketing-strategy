{
  "cells": [
    {
      "cell_type": "code",
      "execution_count": 23,
      "metadata": {
        "colab": {
          "base_uri": "https://localhost:8080/"
        },
        "id": "o6rjs0CMWYqb",
        "outputId": "666719f8-2a21-4d43-c86c-9f6843160e6a"
      },
      "outputs": [
        {
          "output_type": "stream",
          "name": "stdout",
          "text": [
            "Drive already mounted at /content/drive; to attempt to forcibly remount, call drive.mount(\"/content/drive\", force_remount=True).\n"
          ]
        }
      ],
      "source": [
        "from google.colab import drive\n",
        "drive.mount('/content/drive')"
      ]
    },
    {
      "cell_type": "code",
      "execution_count": 24,
      "metadata": {
        "id": "TvcRD9YAWm10"
      },
      "outputs": [],
      "source": [
        "import pandas as pd\n",
        "import seaborn as sns\n",
        "import matplotlib.pyplot as plt\n",
        "\n",
        "df = pd.read_csv(\"/content/drive/MyDrive/dataset_pacmann/marketing_AB.csv\")"
      ]
    },
    {
      "cell_type": "code",
      "execution_count": 25,
      "metadata": {
        "colab": {
          "base_uri": "https://localhost:8080/",
          "height": 206
        },
        "id": "3UzATmX5WtTa",
        "outputId": "919432a4-7f95-410f-fa16-d9a4970c5aaf"
      },
      "outputs": [
        {
          "output_type": "execute_result",
          "data": {
            "text/plain": [
              "   Unnamed: 0  user id test group  converted  total ads most ads day  \\\n",
              "0           0  1069124         ad      False        130       Monday   \n",
              "1           1  1119715         ad      False         93      Tuesday   \n",
              "2           2  1144181         ad      False         21      Tuesday   \n",
              "3           3  1435133         ad      False        355      Tuesday   \n",
              "4           4  1015700         ad      False        276       Friday   \n",
              "\n",
              "   most ads hour  \n",
              "0             20  \n",
              "1             22  \n",
              "2             18  \n",
              "3             10  \n",
              "4             14  "
            ],
            "text/html": [
              "\n",
              "  <div id=\"df-71955363-fad7-43e9-8032-fefca0103313\" class=\"colab-df-container\">\n",
              "    <div>\n",
              "<style scoped>\n",
              "    .dataframe tbody tr th:only-of-type {\n",
              "        vertical-align: middle;\n",
              "    }\n",
              "\n",
              "    .dataframe tbody tr th {\n",
              "        vertical-align: top;\n",
              "    }\n",
              "\n",
              "    .dataframe thead th {\n",
              "        text-align: right;\n",
              "    }\n",
              "</style>\n",
              "<table border=\"1\" class=\"dataframe\">\n",
              "  <thead>\n",
              "    <tr style=\"text-align: right;\">\n",
              "      <th></th>\n",
              "      <th>Unnamed: 0</th>\n",
              "      <th>user id</th>\n",
              "      <th>test group</th>\n",
              "      <th>converted</th>\n",
              "      <th>total ads</th>\n",
              "      <th>most ads day</th>\n",
              "      <th>most ads hour</th>\n",
              "    </tr>\n",
              "  </thead>\n",
              "  <tbody>\n",
              "    <tr>\n",
              "      <th>0</th>\n",
              "      <td>0</td>\n",
              "      <td>1069124</td>\n",
              "      <td>ad</td>\n",
              "      <td>False</td>\n",
              "      <td>130</td>\n",
              "      <td>Monday</td>\n",
              "      <td>20</td>\n",
              "    </tr>\n",
              "    <tr>\n",
              "      <th>1</th>\n",
              "      <td>1</td>\n",
              "      <td>1119715</td>\n",
              "      <td>ad</td>\n",
              "      <td>False</td>\n",
              "      <td>93</td>\n",
              "      <td>Tuesday</td>\n",
              "      <td>22</td>\n",
              "    </tr>\n",
              "    <tr>\n",
              "      <th>2</th>\n",
              "      <td>2</td>\n",
              "      <td>1144181</td>\n",
              "      <td>ad</td>\n",
              "      <td>False</td>\n",
              "      <td>21</td>\n",
              "      <td>Tuesday</td>\n",
              "      <td>18</td>\n",
              "    </tr>\n",
              "    <tr>\n",
              "      <th>3</th>\n",
              "      <td>3</td>\n",
              "      <td>1435133</td>\n",
              "      <td>ad</td>\n",
              "      <td>False</td>\n",
              "      <td>355</td>\n",
              "      <td>Tuesday</td>\n",
              "      <td>10</td>\n",
              "    </tr>\n",
              "    <tr>\n",
              "      <th>4</th>\n",
              "      <td>4</td>\n",
              "      <td>1015700</td>\n",
              "      <td>ad</td>\n",
              "      <td>False</td>\n",
              "      <td>276</td>\n",
              "      <td>Friday</td>\n",
              "      <td>14</td>\n",
              "    </tr>\n",
              "  </tbody>\n",
              "</table>\n",
              "</div>\n",
              "    <div class=\"colab-df-buttons\">\n",
              "\n",
              "  <div class=\"colab-df-container\">\n",
              "    <button class=\"colab-df-convert\" onclick=\"convertToInteractive('df-71955363-fad7-43e9-8032-fefca0103313')\"\n",
              "            title=\"Convert this dataframe to an interactive table.\"\n",
              "            style=\"display:none;\">\n",
              "\n",
              "  <svg xmlns=\"http://www.w3.org/2000/svg\" height=\"24px\" viewBox=\"0 -960 960 960\">\n",
              "    <path d=\"M120-120v-720h720v720H120Zm60-500h600v-160H180v160Zm220 220h160v-160H400v160Zm0 220h160v-160H400v160ZM180-400h160v-160H180v160Zm440 0h160v-160H620v160ZM180-180h160v-160H180v160Zm440 0h160v-160H620v160Z\"/>\n",
              "  </svg>\n",
              "    </button>\n",
              "\n",
              "  <style>\n",
              "    .colab-df-container {\n",
              "      display:flex;\n",
              "      gap: 12px;\n",
              "    }\n",
              "\n",
              "    .colab-df-convert {\n",
              "      background-color: #E8F0FE;\n",
              "      border: none;\n",
              "      border-radius: 50%;\n",
              "      cursor: pointer;\n",
              "      display: none;\n",
              "      fill: #1967D2;\n",
              "      height: 32px;\n",
              "      padding: 0 0 0 0;\n",
              "      width: 32px;\n",
              "    }\n",
              "\n",
              "    .colab-df-convert:hover {\n",
              "      background-color: #E2EBFA;\n",
              "      box-shadow: 0px 1px 2px rgba(60, 64, 67, 0.3), 0px 1px 3px 1px rgba(60, 64, 67, 0.15);\n",
              "      fill: #174EA6;\n",
              "    }\n",
              "\n",
              "    .colab-df-buttons div {\n",
              "      margin-bottom: 4px;\n",
              "    }\n",
              "\n",
              "    [theme=dark] .colab-df-convert {\n",
              "      background-color: #3B4455;\n",
              "      fill: #D2E3FC;\n",
              "    }\n",
              "\n",
              "    [theme=dark] .colab-df-convert:hover {\n",
              "      background-color: #434B5C;\n",
              "      box-shadow: 0px 1px 3px 1px rgba(0, 0, 0, 0.15);\n",
              "      filter: drop-shadow(0px 1px 2px rgba(0, 0, 0, 0.3));\n",
              "      fill: #FFFFFF;\n",
              "    }\n",
              "  </style>\n",
              "\n",
              "    <script>\n",
              "      const buttonEl =\n",
              "        document.querySelector('#df-71955363-fad7-43e9-8032-fefca0103313 button.colab-df-convert');\n",
              "      buttonEl.style.display =\n",
              "        google.colab.kernel.accessAllowed ? 'block' : 'none';\n",
              "\n",
              "      async function convertToInteractive(key) {\n",
              "        const element = document.querySelector('#df-71955363-fad7-43e9-8032-fefca0103313');\n",
              "        const dataTable =\n",
              "          await google.colab.kernel.invokeFunction('convertToInteractive',\n",
              "                                                    [key], {});\n",
              "        if (!dataTable) return;\n",
              "\n",
              "        const docLinkHtml = 'Like what you see? Visit the ' +\n",
              "          '<a target=\"_blank\" href=https://colab.research.google.com/notebooks/data_table.ipynb>data table notebook</a>'\n",
              "          + ' to learn more about interactive tables.';\n",
              "        element.innerHTML = '';\n",
              "        dataTable['output_type'] = 'display_data';\n",
              "        await google.colab.output.renderOutput(dataTable, element);\n",
              "        const docLink = document.createElement('div');\n",
              "        docLink.innerHTML = docLinkHtml;\n",
              "        element.appendChild(docLink);\n",
              "      }\n",
              "    </script>\n",
              "  </div>\n",
              "\n",
              "\n",
              "<div id=\"df-6e93de95-9f01-481d-8f2d-bbf262d078b5\">\n",
              "  <button class=\"colab-df-quickchart\" onclick=\"quickchart('df-6e93de95-9f01-481d-8f2d-bbf262d078b5')\"\n",
              "            title=\"Suggest charts\"\n",
              "            style=\"display:none;\">\n",
              "\n",
              "<svg xmlns=\"http://www.w3.org/2000/svg\" height=\"24px\"viewBox=\"0 0 24 24\"\n",
              "     width=\"24px\">\n",
              "    <g>\n",
              "        <path d=\"M19 3H5c-1.1 0-2 .9-2 2v14c0 1.1.9 2 2 2h14c1.1 0 2-.9 2-2V5c0-1.1-.9-2-2-2zM9 17H7v-7h2v7zm4 0h-2V7h2v10zm4 0h-2v-4h2v4z\"/>\n",
              "    </g>\n",
              "</svg>\n",
              "  </button>\n",
              "\n",
              "<style>\n",
              "  .colab-df-quickchart {\n",
              "      --bg-color: #E8F0FE;\n",
              "      --fill-color: #1967D2;\n",
              "      --hover-bg-color: #E2EBFA;\n",
              "      --hover-fill-color: #174EA6;\n",
              "      --disabled-fill-color: #AAA;\n",
              "      --disabled-bg-color: #DDD;\n",
              "  }\n",
              "\n",
              "  [theme=dark] .colab-df-quickchart {\n",
              "      --bg-color: #3B4455;\n",
              "      --fill-color: #D2E3FC;\n",
              "      --hover-bg-color: #434B5C;\n",
              "      --hover-fill-color: #FFFFFF;\n",
              "      --disabled-bg-color: #3B4455;\n",
              "      --disabled-fill-color: #666;\n",
              "  }\n",
              "\n",
              "  .colab-df-quickchart {\n",
              "    background-color: var(--bg-color);\n",
              "    border: none;\n",
              "    border-radius: 50%;\n",
              "    cursor: pointer;\n",
              "    display: none;\n",
              "    fill: var(--fill-color);\n",
              "    height: 32px;\n",
              "    padding: 0;\n",
              "    width: 32px;\n",
              "  }\n",
              "\n",
              "  .colab-df-quickchart:hover {\n",
              "    background-color: var(--hover-bg-color);\n",
              "    box-shadow: 0 1px 2px rgba(60, 64, 67, 0.3), 0 1px 3px 1px rgba(60, 64, 67, 0.15);\n",
              "    fill: var(--button-hover-fill-color);\n",
              "  }\n",
              "\n",
              "  .colab-df-quickchart-complete:disabled,\n",
              "  .colab-df-quickchart-complete:disabled:hover {\n",
              "    background-color: var(--disabled-bg-color);\n",
              "    fill: var(--disabled-fill-color);\n",
              "    box-shadow: none;\n",
              "  }\n",
              "\n",
              "  .colab-df-spinner {\n",
              "    border: 2px solid var(--fill-color);\n",
              "    border-color: transparent;\n",
              "    border-bottom-color: var(--fill-color);\n",
              "    animation:\n",
              "      spin 1s steps(1) infinite;\n",
              "  }\n",
              "\n",
              "  @keyframes spin {\n",
              "    0% {\n",
              "      border-color: transparent;\n",
              "      border-bottom-color: var(--fill-color);\n",
              "      border-left-color: var(--fill-color);\n",
              "    }\n",
              "    20% {\n",
              "      border-color: transparent;\n",
              "      border-left-color: var(--fill-color);\n",
              "      border-top-color: var(--fill-color);\n",
              "    }\n",
              "    30% {\n",
              "      border-color: transparent;\n",
              "      border-left-color: var(--fill-color);\n",
              "      border-top-color: var(--fill-color);\n",
              "      border-right-color: var(--fill-color);\n",
              "    }\n",
              "    40% {\n",
              "      border-color: transparent;\n",
              "      border-right-color: var(--fill-color);\n",
              "      border-top-color: var(--fill-color);\n",
              "    }\n",
              "    60% {\n",
              "      border-color: transparent;\n",
              "      border-right-color: var(--fill-color);\n",
              "    }\n",
              "    80% {\n",
              "      border-color: transparent;\n",
              "      border-right-color: var(--fill-color);\n",
              "      border-bottom-color: var(--fill-color);\n",
              "    }\n",
              "    90% {\n",
              "      border-color: transparent;\n",
              "      border-bottom-color: var(--fill-color);\n",
              "    }\n",
              "  }\n",
              "</style>\n",
              "\n",
              "  <script>\n",
              "    async function quickchart(key) {\n",
              "      const quickchartButtonEl =\n",
              "        document.querySelector('#' + key + ' button');\n",
              "      quickchartButtonEl.disabled = true;  // To prevent multiple clicks.\n",
              "      quickchartButtonEl.classList.add('colab-df-spinner');\n",
              "      try {\n",
              "        const charts = await google.colab.kernel.invokeFunction(\n",
              "            'suggestCharts', [key], {});\n",
              "      } catch (error) {\n",
              "        console.error('Error during call to suggestCharts:', error);\n",
              "      }\n",
              "      quickchartButtonEl.classList.remove('colab-df-spinner');\n",
              "      quickchartButtonEl.classList.add('colab-df-quickchart-complete');\n",
              "    }\n",
              "    (() => {\n",
              "      let quickchartButtonEl =\n",
              "        document.querySelector('#df-6e93de95-9f01-481d-8f2d-bbf262d078b5 button');\n",
              "      quickchartButtonEl.style.display =\n",
              "        google.colab.kernel.accessAllowed ? 'block' : 'none';\n",
              "    })();\n",
              "  </script>\n",
              "</div>\n",
              "\n",
              "    </div>\n",
              "  </div>\n"
            ],
            "application/vnd.google.colaboratory.intrinsic+json": {
              "type": "dataframe",
              "variable_name": "df"
            }
          },
          "metadata": {},
          "execution_count": 25
        }
      ],
      "source": [
        "#tampilkan 5 baris teratas di dataset\n",
        "df.head()"
      ]
    },
    {
      "cell_type": "markdown",
      "metadata": {
        "id": "bFfJnurQW3YF"
      },
      "source": [
        "## Data Preprocessing"
      ]
    },
    {
      "cell_type": "code",
      "execution_count": 26,
      "metadata": {
        "id": "3zxk9kmlWyrU"
      },
      "outputs": [],
      "source": [
        "# Menghapus kolom 'Unnamed: 0'\n",
        "df = df.drop(columns=['Unnamed: 0'])"
      ]
    },
    {
      "cell_type": "markdown",
      "metadata": {
        "id": "rcHjbMrEXFsZ"
      },
      "source": [
        "## Menentukan ukuran sample untuk tiap varian"
      ]
    },
    {
      "cell_type": "code",
      "execution_count": 27,
      "metadata": {
        "colab": {
          "base_uri": "https://localhost:8080/"
        },
        "id": "jRT7J9sxW9jp",
        "outputId": "c7470ec0-5a06-412f-de44-f1cf623183fb"
      },
      "outputs": [
        {
          "output_type": "stream",
          "name": "stdout",
          "text": [
            "Ukuran sampel yang dibutuhkan per varian: 392 pengguna\n"
          ]
        }
      ],
      "source": [
        "from scipy.stats import norm\n",
        "\n",
        "# Fungsi untuk menghitung ukuran sampel\n",
        "def hitung_ukuran_sampel(alpha, power, std_dev, delta):\n",
        "    # Hitung Z-scores untuk tingkat signifikansi dan kekuatan\n",
        "    z_alpha_2 = norm.ppf(1 - alpha / 2)\n",
        "    z_beta = norm.ppf(power)\n",
        "\n",
        "    # Rumus ukuran sampel\n",
        "    n = ((z_alpha_2 + z_beta) ** 2 * 2 * (std_dev ** 2)) / (delta ** 2)\n",
        "    return n\n",
        "\n",
        "# Parameter input\n",
        "alpha = 0.05  # Tingkat Signifikansi\n",
        "power = 0.8   # Kekuatan (1 - beta)\n",
        "std_dev = 0.05  # Estimasi Standar Deviasi\n",
        "delta = 0.01   # Perbedaan yang Diharapkan (1% peningkatan konversi)\n",
        "\n",
        "# Hitung ukuran sampel\n",
        "ukuran_sampel = hitung_ukuran_sampel(alpha, power, std_dev, delta)\n",
        "\n",
        "# Tampilkan hasil\n",
        "print(f\"Ukuran sampel yang dibutuhkan per varian: {int(ukuran_sampel)} pengguna\")"
      ]
    },
    {
      "cell_type": "code",
      "execution_count": 28,
      "metadata": {
        "colab": {
          "base_uri": "https://localhost:8080/"
        },
        "id": "EFbWdR0yXzOi",
        "outputId": "a83d93fd-0f8e-449a-f5b5-116d14549967"
      },
      "outputs": [
        {
          "output_type": "stream",
          "name": "stdout",
          "text": [
            "<class 'pandas.core.frame.DataFrame'>\n",
            "RangeIndex: 588101 entries, 0 to 588100\n",
            "Data columns (total 6 columns):\n",
            " #   Column         Non-Null Count   Dtype \n",
            "---  ------         --------------   ----- \n",
            " 0   user id        588101 non-null  int64 \n",
            " 1   test group     588101 non-null  object\n",
            " 2   converted      588101 non-null  bool  \n",
            " 3   total ads      588101 non-null  int64 \n",
            " 4   most ads day   588101 non-null  object\n",
            " 5   most ads hour  588101 non-null  int64 \n",
            "dtypes: bool(1), int64(3), object(2)\n",
            "memory usage: 23.0+ MB\n"
          ]
        }
      ],
      "source": [
        "df.info()"
      ]
    },
    {
      "cell_type": "code",
      "execution_count": null,
      "metadata": {
        "colab": {
          "base_uri": "https://localhost:8080/"
        },
        "id": "jBnN1UnKYDUX",
        "outputId": "cae582bc-466e-4c90-d39f-4130def60ea0"
      },
      "outputs": [
        {
          "output_type": "execute_result",
          "data": {
            "text/plain": [
              "(588101, 6)"
            ]
          },
          "metadata": {},
          "execution_count": 7
        }
      ],
      "source": [
        "df.shape"
      ]
    },
    {
      "cell_type": "markdown",
      "metadata": {
        "id": "2YX62a5wad1e"
      },
      "source": [
        "## **Ukuran Sample**"
      ]
    },
    {
      "cell_type": "code",
      "execution_count": 29,
      "metadata": {
        "colab": {
          "base_uri": "https://localhost:8080/"
        },
        "id": "UAQUp9zDam-r",
        "outputId": "f66a20f8-94d2-4c4d-9048-df97afeac87b"
      },
      "outputs": [
        {
          "output_type": "stream",
          "name": "stdout",
          "text": [
            "jumlah sample vaian ad 564577\n",
            "jumlah sample vaian psa 23524\n",
            "jumlah sample vaian ad 392\n",
            "jumlah sample vaian psa 392\n",
            "        user id test group  converted  total ads most ads day  most ads hour\n",
            "529666  1300427         ad      False         21       Friday             20\n",
            "385537  1197483         ad      False          2     Thursday             20\n",
            "120467  1234257         ad      False         20       Sunday             10\n",
            "186608  1384841         ad       True         47       Friday             14\n",
            "141292  1646962         ad      False         13      Tuesday             13\n"
          ]
        }
      ],
      "source": [
        "# Ambil dua grup\n",
        "group_ad = df[df['test group'] == 'ad']\n",
        "group_psa = df[df['test group'] == 'psa']\n",
        "\n",
        "sample_size = 392\n",
        "\n",
        "print(\"jumlah sample vaian ad\", len(group_ad))\n",
        "print(\"jumlah sample vaian psa\", len(group_psa))\n",
        "\n",
        "# Random sampling dari setiap grup\n",
        "sample_ad = group_ad.sample(n=sample_size, random_state=42)\n",
        "sample_psa = group_psa.sample(n=sample_size, random_state=42)\n",
        "\n",
        "print(\"jumlah sample vaian ad\", len(sample_ad))\n",
        "print(\"jumlah sample vaian psa\", len(sample_psa))\n",
        "\n",
        "# Gabungkan sampel dari kedua grup\n",
        "sampled_df = pd.concat([sample_ad, sample_psa])\n",
        "\n",
        "# Simpan hasil sampel ke file baru (opsional)\n",
        "sampled_df.to_csv('sampled_dataset.csv', index=False)\n",
        "\n",
        "# Tampilkan hasil sampel\n",
        "print(sampled_df.head())"
      ]
    },
    {
      "cell_type": "code",
      "source": [
        "sampled_df"
      ],
      "metadata": {
        "id": "jVjze25HTJT4",
        "outputId": "939bb27d-85b6-4f61-89e5-b43c65e55f21",
        "colab": {
          "base_uri": "https://localhost:8080/",
          "height": 423
        }
      },
      "execution_count": 30,
      "outputs": [
        {
          "output_type": "execute_result",
          "data": {
            "text/plain": [
              "        user id test group  converted  total ads most ads day  most ads hour\n",
              "529666  1300427         ad      False         21       Friday             20\n",
              "385537  1197483         ad      False          2     Thursday             20\n",
              "120467  1234257         ad      False         20       Sunday             10\n",
              "186608  1384841         ad       True         47       Friday             14\n",
              "141292  1646962         ad      False         13      Tuesday             13\n",
              "...         ...        ...        ...        ...          ...            ...\n",
              "5094     909630        psa      False         10       Friday             20\n",
              "155170   901271        psa      False         42     Saturday             11\n",
              "217154   919825        psa      False         14     Thursday             12\n",
              "1290     923392        psa      False         76     Thursday             19\n",
              "75242    905747        psa      False         28     Saturday             17\n",
              "\n",
              "[784 rows x 6 columns]"
            ],
            "text/html": [
              "\n",
              "  <div id=\"df-93a557a3-cfb9-4def-af49-0a78fceecf19\" class=\"colab-df-container\">\n",
              "    <div>\n",
              "<style scoped>\n",
              "    .dataframe tbody tr th:only-of-type {\n",
              "        vertical-align: middle;\n",
              "    }\n",
              "\n",
              "    .dataframe tbody tr th {\n",
              "        vertical-align: top;\n",
              "    }\n",
              "\n",
              "    .dataframe thead th {\n",
              "        text-align: right;\n",
              "    }\n",
              "</style>\n",
              "<table border=\"1\" class=\"dataframe\">\n",
              "  <thead>\n",
              "    <tr style=\"text-align: right;\">\n",
              "      <th></th>\n",
              "      <th>user id</th>\n",
              "      <th>test group</th>\n",
              "      <th>converted</th>\n",
              "      <th>total ads</th>\n",
              "      <th>most ads day</th>\n",
              "      <th>most ads hour</th>\n",
              "    </tr>\n",
              "  </thead>\n",
              "  <tbody>\n",
              "    <tr>\n",
              "      <th>529666</th>\n",
              "      <td>1300427</td>\n",
              "      <td>ad</td>\n",
              "      <td>False</td>\n",
              "      <td>21</td>\n",
              "      <td>Friday</td>\n",
              "      <td>20</td>\n",
              "    </tr>\n",
              "    <tr>\n",
              "      <th>385537</th>\n",
              "      <td>1197483</td>\n",
              "      <td>ad</td>\n",
              "      <td>False</td>\n",
              "      <td>2</td>\n",
              "      <td>Thursday</td>\n",
              "      <td>20</td>\n",
              "    </tr>\n",
              "    <tr>\n",
              "      <th>120467</th>\n",
              "      <td>1234257</td>\n",
              "      <td>ad</td>\n",
              "      <td>False</td>\n",
              "      <td>20</td>\n",
              "      <td>Sunday</td>\n",
              "      <td>10</td>\n",
              "    </tr>\n",
              "    <tr>\n",
              "      <th>186608</th>\n",
              "      <td>1384841</td>\n",
              "      <td>ad</td>\n",
              "      <td>True</td>\n",
              "      <td>47</td>\n",
              "      <td>Friday</td>\n",
              "      <td>14</td>\n",
              "    </tr>\n",
              "    <tr>\n",
              "      <th>141292</th>\n",
              "      <td>1646962</td>\n",
              "      <td>ad</td>\n",
              "      <td>False</td>\n",
              "      <td>13</td>\n",
              "      <td>Tuesday</td>\n",
              "      <td>13</td>\n",
              "    </tr>\n",
              "    <tr>\n",
              "      <th>...</th>\n",
              "      <td>...</td>\n",
              "      <td>...</td>\n",
              "      <td>...</td>\n",
              "      <td>...</td>\n",
              "      <td>...</td>\n",
              "      <td>...</td>\n",
              "    </tr>\n",
              "    <tr>\n",
              "      <th>5094</th>\n",
              "      <td>909630</td>\n",
              "      <td>psa</td>\n",
              "      <td>False</td>\n",
              "      <td>10</td>\n",
              "      <td>Friday</td>\n",
              "      <td>20</td>\n",
              "    </tr>\n",
              "    <tr>\n",
              "      <th>155170</th>\n",
              "      <td>901271</td>\n",
              "      <td>psa</td>\n",
              "      <td>False</td>\n",
              "      <td>42</td>\n",
              "      <td>Saturday</td>\n",
              "      <td>11</td>\n",
              "    </tr>\n",
              "    <tr>\n",
              "      <th>217154</th>\n",
              "      <td>919825</td>\n",
              "      <td>psa</td>\n",
              "      <td>False</td>\n",
              "      <td>14</td>\n",
              "      <td>Thursday</td>\n",
              "      <td>12</td>\n",
              "    </tr>\n",
              "    <tr>\n",
              "      <th>1290</th>\n",
              "      <td>923392</td>\n",
              "      <td>psa</td>\n",
              "      <td>False</td>\n",
              "      <td>76</td>\n",
              "      <td>Thursday</td>\n",
              "      <td>19</td>\n",
              "    </tr>\n",
              "    <tr>\n",
              "      <th>75242</th>\n",
              "      <td>905747</td>\n",
              "      <td>psa</td>\n",
              "      <td>False</td>\n",
              "      <td>28</td>\n",
              "      <td>Saturday</td>\n",
              "      <td>17</td>\n",
              "    </tr>\n",
              "  </tbody>\n",
              "</table>\n",
              "<p>784 rows × 6 columns</p>\n",
              "</div>\n",
              "    <div class=\"colab-df-buttons\">\n",
              "\n",
              "  <div class=\"colab-df-container\">\n",
              "    <button class=\"colab-df-convert\" onclick=\"convertToInteractive('df-93a557a3-cfb9-4def-af49-0a78fceecf19')\"\n",
              "            title=\"Convert this dataframe to an interactive table.\"\n",
              "            style=\"display:none;\">\n",
              "\n",
              "  <svg xmlns=\"http://www.w3.org/2000/svg\" height=\"24px\" viewBox=\"0 -960 960 960\">\n",
              "    <path d=\"M120-120v-720h720v720H120Zm60-500h600v-160H180v160Zm220 220h160v-160H400v160Zm0 220h160v-160H400v160ZM180-400h160v-160H180v160Zm440 0h160v-160H620v160ZM180-180h160v-160H180v160Zm440 0h160v-160H620v160Z\"/>\n",
              "  </svg>\n",
              "    </button>\n",
              "\n",
              "  <style>\n",
              "    .colab-df-container {\n",
              "      display:flex;\n",
              "      gap: 12px;\n",
              "    }\n",
              "\n",
              "    .colab-df-convert {\n",
              "      background-color: #E8F0FE;\n",
              "      border: none;\n",
              "      border-radius: 50%;\n",
              "      cursor: pointer;\n",
              "      display: none;\n",
              "      fill: #1967D2;\n",
              "      height: 32px;\n",
              "      padding: 0 0 0 0;\n",
              "      width: 32px;\n",
              "    }\n",
              "\n",
              "    .colab-df-convert:hover {\n",
              "      background-color: #E2EBFA;\n",
              "      box-shadow: 0px 1px 2px rgba(60, 64, 67, 0.3), 0px 1px 3px 1px rgba(60, 64, 67, 0.15);\n",
              "      fill: #174EA6;\n",
              "    }\n",
              "\n",
              "    .colab-df-buttons div {\n",
              "      margin-bottom: 4px;\n",
              "    }\n",
              "\n",
              "    [theme=dark] .colab-df-convert {\n",
              "      background-color: #3B4455;\n",
              "      fill: #D2E3FC;\n",
              "    }\n",
              "\n",
              "    [theme=dark] .colab-df-convert:hover {\n",
              "      background-color: #434B5C;\n",
              "      box-shadow: 0px 1px 3px 1px rgba(0, 0, 0, 0.15);\n",
              "      filter: drop-shadow(0px 1px 2px rgba(0, 0, 0, 0.3));\n",
              "      fill: #FFFFFF;\n",
              "    }\n",
              "  </style>\n",
              "\n",
              "    <script>\n",
              "      const buttonEl =\n",
              "        document.querySelector('#df-93a557a3-cfb9-4def-af49-0a78fceecf19 button.colab-df-convert');\n",
              "      buttonEl.style.display =\n",
              "        google.colab.kernel.accessAllowed ? 'block' : 'none';\n",
              "\n",
              "      async function convertToInteractive(key) {\n",
              "        const element = document.querySelector('#df-93a557a3-cfb9-4def-af49-0a78fceecf19');\n",
              "        const dataTable =\n",
              "          await google.colab.kernel.invokeFunction('convertToInteractive',\n",
              "                                                    [key], {});\n",
              "        if (!dataTable) return;\n",
              "\n",
              "        const docLinkHtml = 'Like what you see? Visit the ' +\n",
              "          '<a target=\"_blank\" href=https://colab.research.google.com/notebooks/data_table.ipynb>data table notebook</a>'\n",
              "          + ' to learn more about interactive tables.';\n",
              "        element.innerHTML = '';\n",
              "        dataTable['output_type'] = 'display_data';\n",
              "        await google.colab.output.renderOutput(dataTable, element);\n",
              "        const docLink = document.createElement('div');\n",
              "        docLink.innerHTML = docLinkHtml;\n",
              "        element.appendChild(docLink);\n",
              "      }\n",
              "    </script>\n",
              "  </div>\n",
              "\n",
              "\n",
              "<div id=\"df-a9b95ed1-9b73-4d21-a25e-c0f375bb62c5\">\n",
              "  <button class=\"colab-df-quickchart\" onclick=\"quickchart('df-a9b95ed1-9b73-4d21-a25e-c0f375bb62c5')\"\n",
              "            title=\"Suggest charts\"\n",
              "            style=\"display:none;\">\n",
              "\n",
              "<svg xmlns=\"http://www.w3.org/2000/svg\" height=\"24px\"viewBox=\"0 0 24 24\"\n",
              "     width=\"24px\">\n",
              "    <g>\n",
              "        <path d=\"M19 3H5c-1.1 0-2 .9-2 2v14c0 1.1.9 2 2 2h14c1.1 0 2-.9 2-2V5c0-1.1-.9-2-2-2zM9 17H7v-7h2v7zm4 0h-2V7h2v10zm4 0h-2v-4h2v4z\"/>\n",
              "    </g>\n",
              "</svg>\n",
              "  </button>\n",
              "\n",
              "<style>\n",
              "  .colab-df-quickchart {\n",
              "      --bg-color: #E8F0FE;\n",
              "      --fill-color: #1967D2;\n",
              "      --hover-bg-color: #E2EBFA;\n",
              "      --hover-fill-color: #174EA6;\n",
              "      --disabled-fill-color: #AAA;\n",
              "      --disabled-bg-color: #DDD;\n",
              "  }\n",
              "\n",
              "  [theme=dark] .colab-df-quickchart {\n",
              "      --bg-color: #3B4455;\n",
              "      --fill-color: #D2E3FC;\n",
              "      --hover-bg-color: #434B5C;\n",
              "      --hover-fill-color: #FFFFFF;\n",
              "      --disabled-bg-color: #3B4455;\n",
              "      --disabled-fill-color: #666;\n",
              "  }\n",
              "\n",
              "  .colab-df-quickchart {\n",
              "    background-color: var(--bg-color);\n",
              "    border: none;\n",
              "    border-radius: 50%;\n",
              "    cursor: pointer;\n",
              "    display: none;\n",
              "    fill: var(--fill-color);\n",
              "    height: 32px;\n",
              "    padding: 0;\n",
              "    width: 32px;\n",
              "  }\n",
              "\n",
              "  .colab-df-quickchart:hover {\n",
              "    background-color: var(--hover-bg-color);\n",
              "    box-shadow: 0 1px 2px rgba(60, 64, 67, 0.3), 0 1px 3px 1px rgba(60, 64, 67, 0.15);\n",
              "    fill: var(--button-hover-fill-color);\n",
              "  }\n",
              "\n",
              "  .colab-df-quickchart-complete:disabled,\n",
              "  .colab-df-quickchart-complete:disabled:hover {\n",
              "    background-color: var(--disabled-bg-color);\n",
              "    fill: var(--disabled-fill-color);\n",
              "    box-shadow: none;\n",
              "  }\n",
              "\n",
              "  .colab-df-spinner {\n",
              "    border: 2px solid var(--fill-color);\n",
              "    border-color: transparent;\n",
              "    border-bottom-color: var(--fill-color);\n",
              "    animation:\n",
              "      spin 1s steps(1) infinite;\n",
              "  }\n",
              "\n",
              "  @keyframes spin {\n",
              "    0% {\n",
              "      border-color: transparent;\n",
              "      border-bottom-color: var(--fill-color);\n",
              "      border-left-color: var(--fill-color);\n",
              "    }\n",
              "    20% {\n",
              "      border-color: transparent;\n",
              "      border-left-color: var(--fill-color);\n",
              "      border-top-color: var(--fill-color);\n",
              "    }\n",
              "    30% {\n",
              "      border-color: transparent;\n",
              "      border-left-color: var(--fill-color);\n",
              "      border-top-color: var(--fill-color);\n",
              "      border-right-color: var(--fill-color);\n",
              "    }\n",
              "    40% {\n",
              "      border-color: transparent;\n",
              "      border-right-color: var(--fill-color);\n",
              "      border-top-color: var(--fill-color);\n",
              "    }\n",
              "    60% {\n",
              "      border-color: transparent;\n",
              "      border-right-color: var(--fill-color);\n",
              "    }\n",
              "    80% {\n",
              "      border-color: transparent;\n",
              "      border-right-color: var(--fill-color);\n",
              "      border-bottom-color: var(--fill-color);\n",
              "    }\n",
              "    90% {\n",
              "      border-color: transparent;\n",
              "      border-bottom-color: var(--fill-color);\n",
              "    }\n",
              "  }\n",
              "</style>\n",
              "\n",
              "  <script>\n",
              "    async function quickchart(key) {\n",
              "      const quickchartButtonEl =\n",
              "        document.querySelector('#' + key + ' button');\n",
              "      quickchartButtonEl.disabled = true;  // To prevent multiple clicks.\n",
              "      quickchartButtonEl.classList.add('colab-df-spinner');\n",
              "      try {\n",
              "        const charts = await google.colab.kernel.invokeFunction(\n",
              "            'suggestCharts', [key], {});\n",
              "      } catch (error) {\n",
              "        console.error('Error during call to suggestCharts:', error);\n",
              "      }\n",
              "      quickchartButtonEl.classList.remove('colab-df-spinner');\n",
              "      quickchartButtonEl.classList.add('colab-df-quickchart-complete');\n",
              "    }\n",
              "    (() => {\n",
              "      let quickchartButtonEl =\n",
              "        document.querySelector('#df-a9b95ed1-9b73-4d21-a25e-c0f375bb62c5 button');\n",
              "      quickchartButtonEl.style.display =\n",
              "        google.colab.kernel.accessAllowed ? 'block' : 'none';\n",
              "    })();\n",
              "  </script>\n",
              "</div>\n",
              "\n",
              "  <div id=\"id_0b4fa8b2-ad17-45e4-9c0d-cebfc106c5fb\">\n",
              "    <style>\n",
              "      .colab-df-generate {\n",
              "        background-color: #E8F0FE;\n",
              "        border: none;\n",
              "        border-radius: 50%;\n",
              "        cursor: pointer;\n",
              "        display: none;\n",
              "        fill: #1967D2;\n",
              "        height: 32px;\n",
              "        padding: 0 0 0 0;\n",
              "        width: 32px;\n",
              "      }\n",
              "\n",
              "      .colab-df-generate:hover {\n",
              "        background-color: #E2EBFA;\n",
              "        box-shadow: 0px 1px 2px rgba(60, 64, 67, 0.3), 0px 1px 3px 1px rgba(60, 64, 67, 0.15);\n",
              "        fill: #174EA6;\n",
              "      }\n",
              "\n",
              "      [theme=dark] .colab-df-generate {\n",
              "        background-color: #3B4455;\n",
              "        fill: #D2E3FC;\n",
              "      }\n",
              "\n",
              "      [theme=dark] .colab-df-generate:hover {\n",
              "        background-color: #434B5C;\n",
              "        box-shadow: 0px 1px 3px 1px rgba(0, 0, 0, 0.15);\n",
              "        filter: drop-shadow(0px 1px 2px rgba(0, 0, 0, 0.3));\n",
              "        fill: #FFFFFF;\n",
              "      }\n",
              "    </style>\n",
              "    <button class=\"colab-df-generate\" onclick=\"generateWithVariable('sampled_df')\"\n",
              "            title=\"Generate code using this dataframe.\"\n",
              "            style=\"display:none;\">\n",
              "\n",
              "  <svg xmlns=\"http://www.w3.org/2000/svg\" height=\"24px\"viewBox=\"0 0 24 24\"\n",
              "       width=\"24px\">\n",
              "    <path d=\"M7,19H8.4L18.45,9,17,7.55,7,17.6ZM5,21V16.75L18.45,3.32a2,2,0,0,1,2.83,0l1.4,1.43a1.91,1.91,0,0,1,.58,1.4,1.91,1.91,0,0,1-.58,1.4L9.25,21ZM18.45,9,17,7.55Zm-12,3A5.31,5.31,0,0,0,4.9,8.1,5.31,5.31,0,0,0,1,6.5,5.31,5.31,0,0,0,4.9,4.9,5.31,5.31,0,0,0,6.5,1,5.31,5.31,0,0,0,8.1,4.9,5.31,5.31,0,0,0,12,6.5,5.46,5.46,0,0,0,6.5,12Z\"/>\n",
              "  </svg>\n",
              "    </button>\n",
              "    <script>\n",
              "      (() => {\n",
              "      const buttonEl =\n",
              "        document.querySelector('#id_0b4fa8b2-ad17-45e4-9c0d-cebfc106c5fb button.colab-df-generate');\n",
              "      buttonEl.style.display =\n",
              "        google.colab.kernel.accessAllowed ? 'block' : 'none';\n",
              "\n",
              "      buttonEl.onclick = () => {\n",
              "        google.colab.notebook.generateWithVariable('sampled_df');\n",
              "      }\n",
              "      })();\n",
              "    </script>\n",
              "  </div>\n",
              "\n",
              "    </div>\n",
              "  </div>\n"
            ],
            "application/vnd.google.colaboratory.intrinsic+json": {
              "type": "dataframe",
              "variable_name": "sampled_df",
              "summary": "{\n  \"name\": \"sampled_df\",\n  \"rows\": 784,\n  \"fields\": [\n    {\n      \"column\": \"user id\",\n      \"properties\": {\n        \"dtype\": \"number\",\n        \"std\": 254012,\n        \"min\": 900051,\n        \"max\": 1653380,\n        \"num_unique_values\": 784,\n        \"samples\": [\n          901648,\n          904316,\n          1071559\n        ],\n        \"semantic_type\": \"\",\n        \"description\": \"\"\n      }\n    },\n    {\n      \"column\": \"test group\",\n      \"properties\": {\n        \"dtype\": \"category\",\n        \"num_unique_values\": 2,\n        \"samples\": [\n          \"psa\",\n          \"ad\"\n        ],\n        \"semantic_type\": \"\",\n        \"description\": \"\"\n      }\n    },\n    {\n      \"column\": \"converted\",\n      \"properties\": {\n        \"dtype\": \"boolean\",\n        \"num_unique_values\": 2,\n        \"samples\": [\n          true,\n          false\n        ],\n        \"semantic_type\": \"\",\n        \"description\": \"\"\n      }\n    },\n    {\n      \"column\": \"total ads\",\n      \"properties\": {\n        \"dtype\": \"number\",\n        \"std\": 34,\n        \"min\": 1,\n        \"max\": 290,\n        \"num_unique_values\": 112,\n        \"samples\": [\n          147,\n          64\n        ],\n        \"semantic_type\": \"\",\n        \"description\": \"\"\n      }\n    },\n    {\n      \"column\": \"most ads day\",\n      \"properties\": {\n        \"dtype\": \"category\",\n        \"num_unique_values\": 7,\n        \"samples\": [\n          \"Friday\",\n          \"Thursday\"\n        ],\n        \"semantic_type\": \"\",\n        \"description\": \"\"\n      }\n    },\n    {\n      \"column\": \"most ads hour\",\n      \"properties\": {\n        \"dtype\": \"number\",\n        \"std\": 4,\n        \"min\": 0,\n        \"max\": 23,\n        \"num_unique_values\": 24,\n        \"samples\": [\n          23,\n          0\n        ],\n        \"semantic_type\": \"\",\n        \"description\": \"\"\n      }\n    }\n  ]\n}"
            }
          },
          "metadata": {},
          "execution_count": 30
        }
      ]
    },
    {
      "cell_type": "code",
      "source": [
        "# Parameter\n",
        "n_required_per_group = 392  # Ukuran sampel per grup\n",
        "total_users_required = n_required_per_group * 2  # Ukuran sampel total (kontrol + treatment)\n",
        "\n",
        "# Asumsi\n",
        "daily_traffic = 1000  # Misalnya rata-rata jumlah pengguna per hari\n",
        "traffic_allocation_ratio = 0.5  # 50% untuk masing-masing grup\n",
        "\n",
        "# Hitung waktu yang diperlukan\n",
        "days_required = total_users_required / (daily_traffic * traffic_allocation_ratio)\n",
        "\n",
        "print(f\"Estimasi waktu pengujian: {days_required:.2f} hari\")"
      ],
      "metadata": {
        "colab": {
          "base_uri": "https://localhost:8080/"
        },
        "id": "JgDIp8O1KB1q",
        "outputId": "7d4290d7-fc5d-460b-d574-1d0bad31e096"
      },
      "execution_count": 31,
      "outputs": [
        {
          "output_type": "stream",
          "name": "stdout",
          "text": [
            "Estimasi waktu pengujian: 1.57 hari\n"
          ]
        }
      ]
    },
    {
      "cell_type": "markdown",
      "metadata": {
        "id": "cgFLQdR1fAk8"
      },
      "source": [
        "## **Trustworthiness Data**\n",
        "\n",
        "1.   Mengidentifikasi data yang hilang\n",
        "2.   Mengidentifikasi data yang duplikat\n",
        "3.   Mengecek distribusi data\n",
        "\n"
      ]
    },
    {
      "cell_type": "code",
      "execution_count": 32,
      "metadata": {
        "colab": {
          "base_uri": "https://localhost:8080/"
        },
        "id": "Acf979NVfJt5",
        "outputId": "86ba3439-b6f9-47cc-f043-f64c20cebaa9"
      },
      "outputs": [
        {
          "output_type": "stream",
          "name": "stdout",
          "text": [
            "Nilai yang Hilang:\n",
            " user id          0\n",
            "test group       0\n",
            "converted        0\n",
            "total ads        0\n",
            "most ads day     0\n",
            "most ads hour    0\n",
            "dtype: int64\n",
            "\n",
            "Data Duplikat:\n",
            " 0\n"
          ]
        }
      ],
      "source": [
        "import numpy as np\n",
        "\n",
        "# Cek nilai yang hilang\n",
        "missing_values = sampled_df.isnull().sum()\n",
        "\n",
        "# Cek data duplikat\n",
        "duplicates = sampled_df.duplicated().sum()\n",
        "\n",
        "print(\"Nilai yang Hilang:\\n\", missing_values)\n",
        "print(\"\\nData Duplikat:\\n\", duplicates)"
      ]
    },
    {
      "cell_type": "code",
      "source": [
        "# Frekuensi kemunculan iklan berdasarkan hari\n",
        "plt.figure(figsize=(10, 6))\n",
        "sns.countplot(x='most ads day', data=sampled_df, order=sampled_df['most ads day'].value_counts().index, palette='viridis')\n",
        "plt.title('Frekuensi Kemunculan Iklan Berdasarkan Hari')\n",
        "plt.xlabel('Hari')\n",
        "plt.ylabel('Jumlah Iklan')\n",
        "plt.show()"
      ],
      "metadata": {
        "colab": {
          "base_uri": "https://localhost:8080/",
          "height": 651
        },
        "id": "d642J12n0JCG",
        "outputId": "71f857ae-3a94-4888-ef83-4a58b016cdbd"
      },
      "execution_count": 33,
      "outputs": [
        {
          "output_type": "stream",
          "name": "stderr",
          "text": [
            "<ipython-input-33-e9dfe3dd7543>:3: FutureWarning: \n",
            "\n",
            "Passing `palette` without assigning `hue` is deprecated and will be removed in v0.14.0. Assign the `x` variable to `hue` and set `legend=False` for the same effect.\n",
            "\n",
            "  sns.countplot(x='most ads day', data=sampled_df, order=sampled_df['most ads day'].value_counts().index, palette='viridis')\n"
          ]
        },
        {
          "output_type": "display_data",
          "data": {
            "text/plain": [
              "<Figure size 1000x600 with 1 Axes>"
            ],
            "image/png": "[encoded data removed]"
          },
          "metadata": {}
        }
      ]
    },
    {
      "cell_type": "code",
      "source": [
        "plt.figure(figsize=(10, 6))\n",
        "sns.countplot(x='most ads hour', data=sampled_df, order=sampled_df['most ads hour'].value_counts().index, palette='viridis')\n",
        "plt.title('Frekuensi Kemunculan Iklan Berdasarkan Jam')\n",
        "plt.xlabel('Jam')\n",
        "plt.ylabel('Jumlah Iklan')\n",
        "plt.show()"
      ],
      "metadata": {
        "colab": {
          "base_uri": "https://localhost:8080/",
          "height": 651
        },
        "id": "xfkrgyg-0vx8",
        "outputId": "e9b5a486-b0af-40f6-cab2-bc0485dbdb36"
      },
      "execution_count": 34,
      "outputs": [
        {
          "output_type": "stream",
          "name": "stderr",
          "text": [
            "<ipython-input-34-be30ab6fadbd>:2: FutureWarning: \n",
            "\n",
            "Passing `palette` without assigning `hue` is deprecated and will be removed in v0.14.0. Assign the `x` variable to `hue` and set `legend=False` for the same effect.\n",
            "\n",
            "  sns.countplot(x='most ads hour', data=sampled_df, order=sampled_df['most ads hour'].value_counts().index, palette='viridis')\n"
          ]
        },
        {
          "output_type": "display_data",
          "data": {
            "text/plain": [
              "<Figure size 1000x600 with 1 Axes>"
            ],
            "image/png": "[encoded data removed]"
          },
          "metadata": {}
        }
      ]
    },
    {
      "cell_type": "markdown",
      "metadata": {
        "id": "SIkmt175fpHo"
      },
      "source": [
        "## **Data Exploration**"
      ]
    },
    {
      "cell_type": "code",
      "execution_count": 35,
      "metadata": {
        "colab": {
          "base_uri": "https://localhost:8080/"
        },
        "id": "vWpDzxo_fm_p",
        "outputId": "2da28b55-1182-4466-8180-20258166b39f"
      },
      "outputs": [
        {
          "output_type": "stream",
          "name": "stdout",
          "text": [
            "Jumlah User pada Masing-masing Grup:\n",
            " test group\n",
            "ad     392\n",
            "psa    392\n",
            "Name: count, dtype: int64\n",
            "\n",
            "Rata-rata Konversi per Grup:\n",
            " test group\n",
            "ad     0.020408\n",
            "psa    0.015306\n",
            "Name: converted, dtype: float64\n"
          ]
        }
      ],
      "source": [
        "# Jumlah user pada masing-masing grup\n",
        "group_counts = sampled_df['test group'].value_counts()\n",
        "\n",
        "# Insight lain (misalnya rata-rata konversi per grup)\n",
        "conversion_rate_per_group = sampled_df.groupby('test group')['converted'].mean()\n",
        "\n",
        "print(\"Jumlah User pada Masing-masing Grup:\\n\", group_counts)\n",
        "print(\"\\nRata-rata Konversi per Grup:\\n\", conversion_rate_per_group)\n"
      ]
    },
    {
      "cell_type": "code",
      "execution_count": 36,
      "metadata": {
        "colab": {
          "base_uri": "https://localhost:8080/",
          "height": 651
        },
        "id": "cOCTwxpMgI1A",
        "outputId": "d1c5714e-28ec-44fd-f4f1-b7960ee37a26"
      },
      "outputs": [
        {
          "output_type": "stream",
          "name": "stderr",
          "text": [
            "<ipython-input-36-592e50681a34>:6: FutureWarning: \n",
            "\n",
            "Passing `palette` without assigning `hue` is deprecated and will be removed in v0.14.0. Assign the `x` variable to `hue` and set `legend=False` for the same effect.\n",
            "\n",
            "  sns.barplot(x='test group', y='converted', data=conversion_rate_per_group, palette='viridis')\n"
          ]
        },
        {
          "output_type": "display_data",
          "data": {
            "text/plain": [
              "<Figure size 800x600 with 1 Axes>"
            ],
            "image/png": "[encoded data removed]"
          },
          "metadata": {}
        }
      ],
      "source": [
        "# Hitung rata-rata konversi per grup\n",
        "conversion_rate_per_group = sampled_df.groupby('test group')['converted'].mean().reset_index()\n",
        "\n",
        "# Plot menggunakan seaborn\n",
        "plt.figure(figsize=(8, 6))\n",
        "sns.barplot(x='test group', y='converted', data=conversion_rate_per_group, palette='viridis')\n",
        "plt.xlabel('Test Group')\n",
        "plt.ylabel('Conversion Rate')\n",
        "plt.title('Conversion Rate per Group')\n",
        "plt.ylim(0, 1)\n",
        "for i, rate in enumerate(conversion_rate_per_group['converted']):\n",
        "    plt.text(i, rate, f\"{rate:.2%}\", ha='center', va='bottom')\n",
        "\n",
        "plt.show()"
      ]
    },
    {
      "cell_type": "markdown",
      "metadata": {
        "id": "GqhH-ll3grPJ"
      },
      "source": [
        "## **SRM Test dengan Chi-Square Test**"
      ]
    },
    {
      "cell_type": "code",
      "execution_count": 39,
      "metadata": {
        "colab": {
          "base_uri": "https://localhost:8080/"
        },
        "id": "9rJtqqCegwvX",
        "outputId": "70f6ae32-f5bd-4314-ddc8-990c6d417597"
      },
      "outputs": [
        {
          "output_type": "stream",
          "name": "stdout",
          "text": [
            "Chi-square Test Statistic: 0.0\n",
            "P-Value: 1.0\n",
            "Tidak terdapat Sample Ratio Mismatch (SRM)\n"
          ]
        }
      ],
      "source": [
        "from scipy.stats import chi2_contingency\n",
        "from statsmodels.stats.proportion import proportion_confint\n",
        "\n",
        "# Observasi aktual\n",
        "obs = group_counts.values\n",
        "\n",
        "# Jumlah total pengguna\n",
        "total_users = sampled_df.shape[0]\n",
        "\n",
        "# Harapan proporsi pengguna (seharusnya sama)\n",
        "expected_proportion = [total_users / 2, total_users / 2]\n",
        "\n",
        "# Chi-square test\n",
        "chi2_stat, p_val, dof, expected = chi2_contingency([obs, expected_proportion])\n",
        "\n",
        "print(\"Chi-square Test Statistic:\", chi2_stat)\n",
        "print(\"P-Value:\", p_val)\n",
        "\n",
        "if p_val < 0.05:\n",
        "    print(\"Terdapat Sample Ratio Mismatch (SRM)\")\n",
        "else:\n",
        "    print(\"Tidak terdapat Sample Ratio Mismatch (SRM)\")\n"
      ]
    },
    {
      "cell_type": "markdown",
      "metadata": {
        "id": "G0btFAJdhdnH"
      },
      "source": [
        "## **Hypothesis Testing**"
      ]
    },
    {
      "cell_type": "code",
      "execution_count": 41,
      "metadata": {
        "colab": {
          "base_uri": "https://localhost:8080/"
        },
        "id": "Hu_XjcYjhqQ9",
        "outputId": "1b9a78f3-427e-4acc-ef79-47e0684e59ac"
      },
      "outputs": [
        {
          "output_type": "stream",
          "name": "stdout",
          "text": [
            "Hipotesis:\n",
            "H0: Conversion rate iklan = conversion rate PSA\n",
            "H1: Conversion rate iklan > conversion rate PSA\n",
            "\n",
            "Z-Test Statistic: 0.5393598899705936\n",
            "P-Value: 0.2948192758132836\n",
            "Kesimpulan: Gagal menolak H0. Tidak ada bukti cukup bahwa conversion rate iklan lebih besar daripada conversion rate PSA.\n"
          ]
        }
      ],
      "source": [
        "# Menghitung konversi per grup\n",
        "conversion_counts = sampled_df.groupby('test group')['converted'].sum().values\n",
        "from statsmodels.stats.proportion import proportions_ztest\n",
        "\n",
        "# Menghitung total pengguna per grup\n",
        "nobs = sampled_df['test group'].value_counts().values\n",
        "\n",
        "# Hipotesis\n",
        "print(\"Hipotesis:\")\n",
        "print(\"H0: Conversion rate iklan = conversion rate PSA\")\n",
        "print(\"H1: Conversion rate iklan > conversion rate PSA\")\n",
        "print()\n",
        "\n",
        "# Uji proporsi satu arah\n",
        "z_stat, p_val = proportions_ztest(conversion_counts, nobs, alternative='larger')\n",
        "\n",
        "print(\"Z-Test Statistic:\", z_stat)\n",
        "print(\"P-Value:\", p_val)\n",
        "\n",
        "# Interpretasi hasil\n",
        "alpha = 0.05\n",
        "if p_val < alpha:\n",
        "    print(\"Kesimpulan: Tolak H0. Conversion rate iklan lebih besar daripada conversion rate PSA.\")\n",
        "else:\n",
        "    print(\"Kesimpulan: Gagal menolak H0. Tidak ada bukti cukup bahwa conversion rate iklan lebih besar daripada conversion rate PSA.\")"
      ]
    },
    {
      "cell_type": "markdown",
      "source": [
        "## **Menghitung confidential Interval**"
      ],
      "metadata": {
        "id": "zMSFzs5plVXE"
      }
    },
    {
      "cell_type": "code",
      "source": [
        "from statsmodels.stats.proportion import proportion_confint\n",
        "\n",
        "# Konversi per grup\n",
        "conversion_counts = sampled_df.groupby('test group')['converted'].sum().values\n",
        "\n",
        "# Total pengguna per grup\n",
        "nobs = sampled_df['test group'].value_counts().values\n",
        "\n",
        "# Hitung tingkat konversi\n",
        "conversion_rates = conversion_counts / nobs\n",
        "\n",
        "# Confidence interval untuk setiap grup\n",
        "ci_iklan = proportion_confint(conversion_counts[0], nobs[0], alpha=0.05)\n",
        "ci_psa = proportion_confint(conversion_counts[1], nobs[1], alpha=0.05)\n",
        "\n",
        "# Perbedaan konversi dan CI perbedaan\n",
        "difference = conversion_rates[0] - conversion_rates[1]\n",
        "se_diff = np.sqrt((conversion_rates[0] * (1 - conversion_rates[0]) / nobs[0]) +\n",
        "                  (conversion_rates[1] * (1 - conversion_rates[1]) / nobs[1]))\n",
        "z_score = 1.96  # for 95% CI\n",
        "ci_diff = (difference - z_score * se_diff, difference + z_score * se_diff)\n",
        "\n",
        "print(\"Conversion rate iklan:\", conversion_rates[0])\n",
        "print(\"Conversion rate PSA:\", conversion_rates[1])\n",
        "print(\"Difference in conversion rates:\", difference)\n",
        "print(\"95% Confidence Interval for the difference:\", ci_diff)"
      ],
      "metadata": {
        "colab": {
          "base_uri": "https://localhost:8080/"
        },
        "id": "E0qmlWbrlZcA",
        "outputId": "58f5df80-b435-484f-80fc-fd9db660690e"
      },
      "execution_count": 42,
      "outputs": [
        {
          "output_type": "stream",
          "name": "stdout",
          "text": [
            "Conversion rate iklan: 0.02040816326530612\n",
            "Conversion rate PSA: 0.015306122448979591\n",
            "Difference in conversion rates: 0.005102040816326529\n",
            "95% Confidence Interval for the difference: (-0.013435015287046298, 0.023639096919699357)\n"
          ]
        }
      ]
    },
    {
      "cell_type": "code",
      "source": [
        "import matplotlib.pyplot as plt\n",
        "import numpy as np\n",
        "\n",
        "# Data untuk plotting\n",
        "difference = conversion_rates[0] - conversion_rates[1]\n",
        "ci_diff_lower, ci_diff_upper = ci_diff\n",
        "\n",
        "# Tentukan batas practical significance\n",
        "practical_significance_threshold = 0.01  # Misalnya 1%\n",
        "\n",
        "# Plotting\n",
        "fig, ax = plt.subplots(figsize=(10, 6))\n",
        "\n",
        "# Perbedaan estimasi dan CI\n",
        "ax.plot([ci_diff_lower, ci_diff_upper], [0, 0], color='black', lw=2)  # CI Line\n",
        "ax.scatter([difference], [0], color='skyblue', s=100, zorder=3)  # Point Estimate\n",
        "ax.text(difference, 0.01, 'Perbedaan\\nestimasi', ha='center', va='bottom', fontsize=12, color='black', zorder=4)\n",
        "\n",
        "# Batas practical significance\n",
        "ax.axvline(x=-practical_significance_threshold, color='red', linestyle='--', lw=1.5, label='Batas practical significance')\n",
        "ax.axvline(x=practical_significance_threshold, color='red', linestyle='--', lw=1.5)\n",
        "\n",
        "# Tambahan label pada batas practical significance\n",
        "ax.text(-practical_significance_threshold, -0.03, 'Batas practical significance', ha='center', va='center', rotation='vertical', fontsize=10, color='red')\n",
        "ax.text(practical_significance_threshold, -0.03, 'Batas practical significance', ha='center', va='center', rotation='vertical', fontsize=10, color='red')\n",
        "\n",
        "# Labels dan Titles\n",
        "ax.set_title('Perbandingan Statistical vs Practical Significance')\n",
        "ax.set_xlabel('Perbedaan Conversion Rate')\n",
        "ax.set_ylabel('')\n",
        "ax.set_yticks([])  # Menghapus ticks di y-axis\n",
        "ax.grid(False)\n",
        "\n",
        "# Setting limit\n",
        "ax.set_xlim(ci_diff_lower - 0.01, ci_diff_upper + 0.01)\n",
        "ax.set_ylim(-0.05, 0.05)\n",
        "\n",
        "# Show Plot\n",
        "plt.show()\n"
      ],
      "metadata": {
        "colab": {
          "base_uri": "https://localhost:8080/",
          "height": 564
        },
        "id": "X67hFywklK1K",
        "outputId": "f06399bb-3381-4ce8-f78e-8853bd09bb92"
      },
      "execution_count": 43,
      "outputs": [
        {
          "output_type": "display_data",
          "data": {
            "text/plain": [
              "<Figure size 1000x600 with 1 Axes>"
            ],
            "image/png": "[encoded data removed]"
          },
          "metadata": {}
        }
      ]
    }
  ],
  "metadata": {
    "colab": {
      "provenance": []
    },
    "kernelspec": {
      "display_name": "Python 3",
      "name": "python3"
    },
    "language_info": {
      "name": "python"
    }
  },
  "nbformat": 4,
  "nbformat_minor": 0
}